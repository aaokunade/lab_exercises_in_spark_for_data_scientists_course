{
 "cells": [
  {
   "cell_type": "markdown",
   "metadata": {},
   "source": [
    "# Lab Exercises\n",
    "---\n",
    "* This contain the list of exercises from the EPCC course on Spark in which I participated\n",
    "\n",
    "* The exercises is meant to solidify the theory learnt during the course\n",
    "\n",
    "* It starts from the RDD basics, to SQL context within Spark and further to the use of MLlib\n",
    "\n",
    "* which contains various machine learning algorithms and serve as the ML API for Spark context.\n",
    "\n",
    "* Real datasets are explored with various techniques.\n"
   ]
  },
  {
   "cell_type": "markdown",
   "metadata": {},
   "source": [
    "# On the datasets used\n",
    "---\n",
    "\n",
    "* The datasets is available as train.csv with 739 on "
   ]
  }
 ],
 "metadata": {
  "kernelspec": {
   "display_name": "Python 3",
   "language": "python",
   "name": "python3"
  },
  "language_info": {
   "codemirror_mode": {
    "name": "ipython",
    "version": 3
   },
   "file_extension": ".py",
   "mimetype": "text/x-python",
   "name": "python",
   "nbconvert_exporter": "python",
   "pygments_lexer": "ipython3",
   "version": "3.7.1"
  }
 },
 "nbformat": 4,
 "nbformat_minor": 2
}
