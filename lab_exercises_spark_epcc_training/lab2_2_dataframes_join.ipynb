{
 "cells": [
  {
   "cell_type": "markdown",
   "metadata": {},
   "source": [
    "#### This third exercise will introduce Spark accumulators and visualization tools.\n",
    "\n",
    " *The following material will be covered:*\n",
    " *Part 1:* Spark SQL - Joins\n",
    "\n",
    "\n",
    "#### During the exercises, the following resources might come in handy:\n",
    "*  Documentation of the [PySpark API](https://spark.apache.org/docs/latest/api/python/pyspark.html#pyspark.RDD)\n",
    "*  Documentation of the [Python API](https://docs.python.org/2.7/)\n",
    "*  Documentation of the [Spark SQL API](http://spark.apache.org/docs/latest/sql-programming-guide.html)\n",
    "\n",
    "#### To run code in Jupyter, press: \n",
    "*  `Ctrl-Enter` to run the code in the currently selected cell\n",
    "*  `Shift-Enter` to run the code in the currently selected cell and jump to the next cell"
   ]
  },
  {
   "cell_type": "code",
   "execution_count": 1,
   "metadata": {},
   "outputs": [],
   "source": [
    "# import os\n",
    "# os.environ[\"SPARK_OPTS\"] = \"--driver-java-options=-Xms1024M --driver-java-options=-Xmx1536M --driver-java-options=-Dlog4j.logLevel=info\"\n",
    "\n",
    "# from pyspark import SparkContext\n",
    "# from pyspark.sql import SQLContext\n",
    "\n",
    "# sc = SparkContext(master=\"local[*]\")\n",
    "# sqlContext = SQLContext(sc)"
   ]
  },
  {
   "cell_type": "code",
   "execution_count": 2,
   "metadata": {},
   "outputs": [],
   "source": [
    "from IPython.display import display, HTML\n",
    "import warnings\n",
    "\n",
    "def displayRows(rowDf):\n",
    "    headers = []\n",
    "    rows = []\n",
    "    if(str(type(rowDf)) == \"<class 'pyspark.sql.dataframe.DataFrame'>\"):\n",
    "        rows = rowDf.limit(10000).collect() #Let's limit the output just in case!\n",
    "        if(len(rows) == 10000):\n",
    "            if(rowDf.limit(10001).count() == 10001):\n",
    "                warnings.warn(\"More than 10 000 rows was returned, only showing the first 10 000.\")\n",
    "                \n",
    "        headers = list(rowDf.columns)\n",
    "    else:\n",
    "        rows = rowDf\n",
    "        if(len(rows) > 10000):\n",
    "            warnings.warn(\"Rows has {0} elements, only showing the first 10 000.\".format(len(rows)))\n",
    "            rows = rows[0:10000]\n",
    "            \n",
    "        #Computes the unique set of keys\n",
    "        headers = list(sorted(reduce(lambda x,y: x.union(set(y.asDict().iterkeys())), rows, set())))\n",
    "            \n",
    "    tableHead = [\"<th>{0}</th>\".format(key) for key in headers]\n",
    "    tableBody = [\"<tr>{0}</tr>\".format(\n",
    "                    \"\".join([\"<td>{0}</td>\".format(rowDict.get(header)) \n",
    "                            for rowDict \n",
    "                            in (row.asDict(),) \n",
    "                            for header \n",
    "                            in headers])\n",
    "                    ) for row in rows]\n",
    "    \n",
    "    display(HTML(\n",
    "    u\"\"\"<table>\n",
    "    <thead><tr>{0}</tr></thead>\n",
    "    <tbody>{1}</tbody>\n",
    "    </table>\n",
    "    \"\"\".format(\"\".join(tableHead), \"\".join(tableBody))))"
   ]
  },
  {
   "cell_type": "markdown",
   "metadata": {},
   "source": [
    "## Part 1: Spark SQL - Joins"
   ]
  },
  {
   "cell_type": "markdown",
   "metadata": {},
   "source": [
    "#### This part will introduce you the Spark SQL by writing SQL queries.\n",
    "\n",
    "The cell below generates data which you will write queries for."
   ]
  },
  {
   "cell_type": "code",
   "execution_count": 3,
   "metadata": {},
   "outputs": [],
   "source": [
    "#Top 20 boy and girl names 2014 in random order.\n",
    "names = [\"Caden\", \"Kaylee\", \"Lucas\", \"Ethan\", \"Alexander\", \"Jackson\", \n",
    "         \"Aiden\", \"Madelyn\", \"Michael\", \"Avery\", \"Luke\", \"Isabella\", \n",
    "         \"Chloe\", \"Elijah\", \"Abigail\", \"Madison\", \"Jacob\", \"Zoe\", \"Emily\", \n",
    "         \"Jayden\", \"Liam\", \"Mason\", \"Mia\", \"Sophia\", \"Benjamin\", \"Layla\", \n",
    "         \"Emma\", \"Lily\", \"Charlotte\", \"Caleb\", \"James\", \"Noah\", \"Ella\", \n",
    "         \"Jack\", \"Jayce\", \"Aubrey\", \"Olivia\", \"Harper\", \"Logan\", \"Ava\"]\n",
    "\n",
    "#A-G in phonetic alphabet\n",
    "groups = [\"Alpha\",\"Bravo\", \"Charlie\", \"Delta\", \"Echo\", \"Foxtrot\", \"Golf\"]\n",
    "\n",
    "#Some numeric magic to generate not so uniform random data.\n",
    "tblUserRdd = sc.parallelize(map(lambda i: (i, ((i*104729)^131) % 7, 26500 + ((i*104729)^96587) % 6367), range(1,51)))\n",
    "tblNamesRdd = sc.parallelize(enumerate(names, 1), 4)\n",
    "tblGroupNamesRdd = sc.parallelize(enumerate(groups), 2)\n",
    "\n",
    "#Create dataframes from the RDDs\n",
    "tblNames      = sqlContext.createDataFrame(tblNamesRdd,      [\"userId\", \"name\"])\n",
    "tblUsers      = sqlContext.createDataFrame(tblUserRdd,       [\"id\", \"groupId\", \"salary\"])\n",
    "tblGroupNames = sqlContext.createDataFrame(tblGroupNamesRdd, [\"id\", \"name\"])\n",
    "\n",
    "#Register them for use.\n",
    "sqlContext.registerDataFrameAsTable(tblGroupNames, \"tblGroupNames\")\n",
    "sqlContext.registerDataFrameAsTable(tblUsers, \"tblUsers\")\n",
    "sqlContext.registerDataFrameAsTable(tblNames, \"tblNames\")"
   ]
  },
  {
   "cell_type": "markdown",
   "metadata": {},
   "source": [
    "#### Next 3 cells will display the content of the dataframe by using the helper function *displayRows*"
   ]
  },
  {
   "cell_type": "code",
   "execution_count": 12,
   "metadata": {},
   "outputs": [
    {
     "data": {
      "text/plain": [
       "40"
      ]
     },
     "execution_count": 12,
     "metadata": {},
     "output_type": "execute_result"
    }
   ],
   "source": [
    "# displayRows(tblUsers)\n",
    "tblNames.count()"
   ]
  },
  {
   "cell_type": "code",
   "execution_count": null,
   "metadata": {
    "collapsed": true
   },
   "outputs": [],
   "source": [
    "displayRows(tblNames)"
   ]
  },
  {
   "cell_type": "code",
   "execution_count": null,
   "metadata": {
    "collapsed": true
   },
   "outputs": [],
   "source": [
    "displayRows(tblGroupNames)"
   ]
  },
  {
   "cell_type": "markdown",
   "metadata": {},
   "source": [
    "### 1.a) Merging user and group names of the users"
   ]
  },
  {
   "cell_type": "markdown",
   "metadata": {},
   "source": [
    "You will be using 2 inner joins to join **tblNames** and **tblGroupNames**\n",
    "\n",
    "Some names will be lost due to the inner join, but we will find them later.\n",
    "\n",
    "The result should have the following columns:\n",
    "\n",
    "1. **id**: User id\n",
    "2. **name**: The user name\n",
    "3. **groupName**: The group name\n",
    "\n",
    "Sort by **name**"
   ]
  },
  {
   "cell_type": "code",
   "execution_count": 3,
   "metadata": {},
   "outputs": [
    {
     "data": {
      "text/html": [
       "<table>\n",
       "    <thead><tr><th>id</th><th>name</th><th>groupName</th></tr></thead>\n",
       "    <tbody><tr><td>15</td><td>Abigail</td><td>Bravo</td></tr><tr><td>7</td><td>Aiden</td><td>Charlie</td></tr><tr><td>5</td><td>Alexander</td><td>Golf</td></tr><tr><td>36</td><td>Aubrey</td><td>Delta</td></tr><tr><td>40</td><td>Ava</td><td>Echo</td></tr><tr><td>10</td><td>Avery</td><td>Delta</td></tr><tr><td>25</td><td>Benjamin</td><td>Echo</td></tr><tr><td>1</td><td>Caden</td><td>Foxtrot</td></tr><tr><td>30</td><td>Caleb</td><td>Bravo</td></tr><tr><td>29</td><td>Charlotte</td><td>Bravo</td></tr><tr><td>13</td><td>Chloe</td><td>Bravo</td></tr><tr><td>14</td><td>Elijah</td><td>Bravo</td></tr><tr><td>33</td><td>Ella</td><td>Golf</td></tr><tr><td>19</td><td>Emily</td><td>Foxtrot</td></tr><tr><td>27</td><td>Emma</td><td>Alpha</td></tr><tr><td>4</td><td>Ethan</td><td>Golf</td></tr><tr><td>38</td><td>Harper</td><td>Delta</td></tr><tr><td>12</td><td>Isabella</td><td>Bravo</td></tr><tr><td>34</td><td>Jack</td><td>Golf</td></tr><tr><td>6</td><td>Jackson</td><td>Charlie</td></tr><tr><td>17</td><td>Jacob</td><td>Foxtrot</td></tr><tr><td>31</td><td>James</td><td>Foxtrot</td></tr><tr><td>35</td><td>Jayce</td><td>Golf</td></tr><tr><td>20</td><td>Jayden</td><td>Golf</td></tr><tr><td>2</td><td>Kaylee</td><td>Foxtrot</td></tr><tr><td>26</td><td>Layla</td><td>Alpha</td></tr><tr><td>21</td><td>Liam</td><td>Delta</td></tr><tr><td>28</td><td>Lily</td><td>Bravo</td></tr><tr><td>39</td><td>Logan</td><td>Delta</td></tr><tr><td>3</td><td>Lucas</td><td>Foxtrot</td></tr><tr><td>11</td><td>Luke</td><td>Alpha</td></tr><tr><td>8</td><td>Madelyn</td><td>Delta</td></tr><tr><td>16</td><td>Madison</td><td>Foxtrot</td></tr><tr><td>22</td><td>Mason</td><td>Delta</td></tr><tr><td>23</td><td>Mia</td><td>Delta</td></tr><tr><td>9</td><td>Michael</td><td>Delta</td></tr><tr><td>32</td><td>Noah</td><td>Golf</td></tr><tr><td>37</td><td>Olivia</td><td>Delta</td></tr><tr><td>24</td><td>Sophia</td><td>Echo</td></tr><tr><td>18</td><td>Zoe</td><td>Foxtrot</td></tr></tbody>\n",
       "    </table>\n",
       "    "
      ],
      "text/plain": [
       "<IPython.core.display.HTML object>"
      ]
     },
     "metadata": {},
     "output_type": "display_data"
    }
   ],
   "source": [
    "q1a = sqlContext.sql(\"\"\"\n",
    "    SELECT \n",
    "        tblUsers.id, \n",
    "        tblNames.name AS name,\n",
    "        tblGroupNames.name AS groupName\n",
    "    FROM tblUsers \n",
    "    INNER JOIN tblNames ON tblUsers.id = tblNames.userId\n",
    "    INNER JOIN tblGroupNames ON tblUsers.groupId = tblGroupNames.id\n",
    "    ORDER BY tblNames.name\n",
    "\"\"\")\n",
    "\n",
    "displayRows(q1a)"
   ]
  },
  {
   "cell_type": "code",
   "execution_count": 21,
   "metadata": {},
   "outputs": [
    {
     "data": {
      "text/plain": [
       "5"
      ]
     },
     "execution_count": 21,
     "metadata": {},
     "output_type": "execute_result"
    }
   ],
   "source": [
    "q1a.count()"
   ]
  },
  {
   "cell_type": "code",
   "execution_count": 4,
   "metadata": {},
   "outputs": [],
   "source": [
    "q1aResult = q1a.collect()\n",
    "assert len(q1aResult) == 40\n",
    "assert all(map(lambda i: q1aResult[i].name <= q1aResult[i+1].name, range(0,39)))"
   ]
  },
  {
   "cell_type": "markdown",
   "metadata": {},
   "source": [
    "### 1.b) Find only the users that do not have any name"
   ]
  },
  {
   "cell_type": "markdown",
   "metadata": {},
   "source": [
    "By using a left outer join or simply left join between tblUsers and tblNames, we can find the users which do not have any name by checking if the name ```IS NULL```.\n",
    "\n",
    "Without this check we would get all users and ```NULL``` in the name column for those users which has no name."
   ]
  },
  {
   "cell_type": "code",
   "execution_count": 5,
   "metadata": {},
   "outputs": [
    {
     "data": {
      "text/html": [
       "<table>\n",
       "    <thead><tr><th>id</th><th>groupName</th></tr></thead>\n",
       "    <tbody><tr><td>41</td><td>Bravo</td></tr><tr><td>42</td><td>Bravo</td></tr><tr><td>43</td><td>Bravo</td></tr><tr><td>44</td><td>Charlie</td></tr><tr><td>45</td><td>Charlie</td></tr><tr><td>46</td><td>Charlie</td></tr><tr><td>47</td><td>Foxtrot</td></tr><tr><td>48</td><td>Golf</td></tr><tr><td>49</td><td>Golf</td></tr><tr><td>50</td><td>Golf</td></tr></tbody>\n",
       "    </table>\n",
       "    "
      ],
      "text/plain": [
       "<IPython.core.display.HTML object>"
      ]
     },
     "metadata": {},
     "output_type": "display_data"
    }
   ],
   "source": [
    "q1b = sqlContext.sql(\"\"\"\n",
    "    SELECT \n",
    "        tblUsers.id, \n",
    "        tblGroupNames.name AS groupName\n",
    "    FROM tblUsers \n",
    "    LEFT JOIN tblNames ON tblUsers.id = tblNames.userId\n",
    "    INNER JOIN tblGroupNames ON tblUsers.groupId = tblGroupNames.id\n",
    "    WHERE tblNames.name IS NULL\n",
    "    ORDER BY tblUsers.id\n",
    "\"\"\")\n",
    "\n",
    "displayRows(q1b)"
   ]
  },
  {
   "cell_type": "code",
   "execution_count": 6,
   "metadata": {},
   "outputs": [],
   "source": [
    "q1bresult = q1b.collect()\n",
    "assert len(q1bresult) == 10\n",
    "assert set(map(lambda row: row.id, q1bresult)) == set(range(41,51))"
   ]
  },
  {
   "cell_type": "markdown",
   "metadata": {},
   "source": [
    "### 1.c) Counting name initials"
   ]
  },
  {
   "cell_type": "markdown",
   "metadata": {},
   "source": [
    "Often, you would like to perform queries on a result, or perform operations on columns on data which forces you to split up the query in multiple parts.\n",
    "\n",
    "In this exercise you will use a powerful mechanism that allows you to query the result of a subquery by treating the result as a dataframe. We have provided the subquery which uses a string function SUBSTR that extracts the first character of a string.\n",
    "\n",
    "The result should have the following columns:\n",
    "\n",
    "1. Initial: The extracted Initial\n",
    "2. Counts: The number of names which starts with *Initial*\n",
    "\n",
    "Order by `Count` descending then initial and only return the top 10 results.\n",
    "\n",
    "**Hint:** Use COUNT, GROUP BY, ORDER BY, LIMIT"
   ]
  },
  {
   "cell_type": "code",
   "execution_count": 19,
   "metadata": {},
   "outputs": [
    {
     "data": {
      "text/html": [
       "<table>\n",
       "    <thead><tr><th>Initial</th><th>Counts</th></tr></thead>\n",
       "    <tbody><tr><td>A</td><td>6</td></tr><tr><td>J</td><td>6</td></tr><tr><td>L</td><td>6</td></tr><tr><td>E</td><td>5</td></tr><tr><td>M</td><td>5</td></tr><tr><td>C</td><td>4</td></tr><tr><td>B</td><td>1</td></tr><tr><td>H</td><td>1</td></tr><tr><td>I</td><td>1</td></tr><tr><td>K</td><td>1</td></tr></tbody>\n",
       "    </table>\n",
       "    "
      ],
      "text/plain": [
       "<IPython.core.display.HTML object>"
      ]
     },
     "metadata": {},
     "output_type": "display_data"
    }
   ],
   "source": [
    "q1c = sqlContext.sql(\"\"\"\n",
    "SELECT \n",
    "    Initial, \n",
    "    COUNT(Initial) AS Counts\n",
    "FROM\n",
    "(\n",
    "    SELECT SUBSTR(name,0,1) AS Initial FROM tblNames\n",
    ") AS tblIntials\n",
    "GROUP BY Initial\n",
    "ORDER BY Counts DESC, Initial\n",
    "LIMIT 10\n",
    "\"\"\")\n",
    "                     \n",
    "displayRows(q1c)"
   ]
  },
  {
   "cell_type": "code",
   "execution_count": 18,
   "metadata": {},
   "outputs": [
    {
     "ename": "NameError",
     "evalue": "name 'tblIntials' is not defined",
     "output_type": "error",
     "traceback": [
      "\u001b[1;31m---------------------------------------------------------------------------\u001b[0m",
      "\u001b[1;31mNameError\u001b[0m                                 Traceback (most recent call last)",
      "\u001b[1;32m<ipython-input-18-9292bcbb7d33>\u001b[0m in \u001b[0;36m<module>\u001b[1;34m\u001b[0m\n\u001b[1;32m----> 1\u001b[1;33m \u001b[0mtblIntials\u001b[0m\u001b[1;33m.\u001b[0m\u001b[0mtake\u001b[0m\u001b[1;33m(\u001b[0m\u001b[1;36m1\u001b[0m\u001b[1;33m)\u001b[0m\u001b[1;33m\u001b[0m\u001b[1;33m\u001b[0m\u001b[0m\n\u001b[0m",
      "\u001b[1;31mNameError\u001b[0m: name 'tblIntials' is not defined"
     ]
    }
   ],
   "source": [
    "tblIntials.take(1)"
   ]
  },
  {
   "cell_type": "code",
   "execution_count": 15,
   "metadata": {},
   "outputs": [],
   "source": [
    "q1cresult = q1c.collect()\n",
    "assert len(q1cresult) == 10\n",
    "assert q1cresult[0].Initial == \"A\" and q1cresult[1].Initial == \"J\" and q1cresult[2].Initial == \"L\""
   ]
  }
 ],
 "metadata": {
  "kernelspec": {
   "display_name": "Python 3",
   "language": "python",
   "name": "python3"
  },
  "language_info": {
   "codemirror_mode": {
    "name": "ipython",
    "version": 3
   },
   "file_extension": ".py",
   "mimetype": "text/x-python",
   "name": "python",
   "nbconvert_exporter": "python",
   "pygments_lexer": "ipython3",
   "version": "3.7.1"
  }
 },
 "nbformat": 4,
 "nbformat_minor": 1
}
