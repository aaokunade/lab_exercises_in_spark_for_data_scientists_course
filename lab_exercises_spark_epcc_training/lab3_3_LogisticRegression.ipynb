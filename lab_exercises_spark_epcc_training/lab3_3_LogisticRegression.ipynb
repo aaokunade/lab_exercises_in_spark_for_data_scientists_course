{
 "cells": [
  {
   "cell_type": "markdown",
   "metadata": {},
   "source": [
    "\n",
    "## Logistic regression\n",
    "\n",
    "Today's second exercise will involve classification using logistic regression with <a href=\"http://spark.apache.org/docs/latest/mllib-guide.html\">MLlib</a>.\n",
    "\n",
    "This exercise will be divided into four parts:\n",
    "+ #### 1. Importing and preparing the data\n",
    "+ #### 2. Logistic regression\n",
    "+ #### 3. Evaluating the results\n",
    "\n",
    "<br>\n",
    "In the following exercises, you will need to replace the code parts in the cell that starts with following comment: \"#Replace the `<INSERT>`\"\n",
    "\n",
    "To go through the notebook, fill in the `<INSERT>`:s with appropriate code in the cells. \n",
    "To run a cell, press Shift-Enter to run it and advance to the following cell or Ctrl-Enter to only run the code in the cell. You should do the exercises from the top to the bottom in this notebook, because following cells may depend on code in previous cells.\n",
    "\n",
    "## Description of the data set\n",
    "In this exercise, we will utilize the <a href=\"https://www.kaggle.com/c/stumbleupon\">StumbleUpon Evergreen Classification Challenge</a> data set:\n",
    "\n",
    ">StumbleUpon is a user-curated web content discovery engine that recommends relevant, high quality pages and media to its users, based on their interests. While some pages we recommend, such as news articles or seasonal recipes, are only relevant for a short period of time, others maintain a timeless quality and can be recommended to users long after they are discovered. In other words, pages can either be classified as \"ephemeral\" or \"evergreen\".\n",
    "\n",
    "We will try to accurately predict a page as either \"ephemeral\" or \"evergreen\", i.e. having long lasting value to the users.\n",
    "\n",
    "First we create a spark context:"
   ]
  },
  {
   "cell_type": "code",
   "execution_count": 1,
   "metadata": {},
   "outputs": [],
   "source": [
    "# from pyspark import SparkContext, StorageLevel\n",
    "# from pyspark.sql import SQLContext\n",
    "# sc = SparkContext(master=\"local[*]\")\n",
    "# # sqlContext = SQLContext(sc)"
   ]
  },
  {
   "cell_type": "code",
   "execution_count": 2,
   "metadata": {},
   "outputs": [],
   "source": [
    "#Helper functions to check results\n",
    "import numpy as np\n",
    "\n",
    "def check(x,y,label):\n",
    "    if(x == y):\n",
    "        print(\"Yay, \"+label+\" is correct!\")\n",
    "    else:\n",
    "        print(\"Nay, \"+label+\" is incorrect, please try again!\")\n",
    "\n",
    "def checkArray(x,y,label):\n",
    "    if np.allclose(x,y):\n",
    "        print(\"Yay, \"+label+\" is correct!\")\n",
    "    else:\n",
    "        print(\"Nay, \"+label+\" is incorrect, please try again!\")"
   ]
  },
  {
   "cell_type": "markdown",
   "metadata": {},
   "source": [
    "## 1. Importing and preparing the data\n",
    "\n",
    "The data set is currently saved as a text file in the <a href=\"https://en.wikipedia.org/wiki/Tab-separated_values\">tab separated values (TSV)</a> format, without a header, named \"evergreen.tsv\". We want to read in this textfile as separate lines into an rdd. A line is represented by the following fields, specified here: <a href=\"https://www.kaggle.com/c/stumbleupon/data\">data specification</a>.\n",
    "\n",
    "### 1.1 Creating the RDD\n",
    "Read in the CSV-file as an RDD:"
   ]
  },
  {
   "cell_type": "code",
   "execution_count": 3,
   "metadata": {},
   "outputs": [
    {
     "name": "stdout",
     "output_type": "stream",
     "text": [
      "Number of observations: 7395\n"
     ]
    }
   ],
   "source": [
    "# Download train.tsv from the kaggle competition homepage for stumbleUpon Evergreen Classification Challenge\n",
    "# The dataset used in the exercises does not contain the features' headers so we remove it\n",
    "## use this if the train.csv dataset from the competition page on kaggle is used wuth\n",
    "trainFh = open(\"train.tsv\") # create a handle to the file\n",
    "count = 0 \n",
    "evergreenTsv = []\n",
    "for line in trainFh:\n",
    "    count += 1\n",
    "    if count < 2:\n",
    "        lineHdr = line\n",
    "    else:\n",
    "        evergreenTsv.append(line.strip())\n",
    "print(\"Number of observations: \" +str(count-1))\n",
    "\n",
    "rawLines = sc.parallelize(evergreenTsv).cache()# if the train\n"
   ]
  },
  {
   "cell_type": "code",
   "execution_count": 4,
   "metadata": {},
   "outputs": [],
   "source": [
    "# use this line for if the header is remove manually and the data set saved as evergreen.tsv\n",
    "# the result might be different so many checks might not tally!\n",
    "# rawLines = sc.textFile(\"evergreen.tsv\").cache() #use if evergreen.tsv does not contain header"
   ]
  },
  {
   "cell_type": "markdown",
   "metadata": {},
   "source": [
    "### 1.2 Checking out the RDD\n",
    "\n",
    "Run the following code to get a feel for the data set:"
   ]
  },
  {
   "cell_type": "code",
   "execution_count": 5,
   "metadata": {
    "scrolled": false
   },
   "outputs": [
    {
     "name": "stdout",
     "output_type": "stream",
     "text": [
      "The number of observations: 7395\n",
      "The number of features: 26\n",
      "One observation: \"http://www.bloomberg.com/news/2010-12-23/ibm-predicts-holographic-calls-air-breathing-batteries-by-2015.html\"\t\"4042\"\t\"{\"\"title\"\":\"\"IBM Sees Holographic Calls Air Breathing Batteries ibm sees holographic calls, air-breathing batteries\"\",\"\"body\"\":\"\"A sign stands outside the International Business Machines Corp IBM Almaden Research Center campus in San Jose California Photographer Tony Avelar Bloomberg Buildings stand at the International Business Machines Corp IBM Almaden Research Center campus in the Santa Teresa Hills of San Jose California Photographer Tony Avelar Bloomberg By 2015 your mobile phone will project a 3 D image of anyone who calls and your laptop will be powered by kinetic energy At least that s what International Business Machines Corp sees in its crystal ball The predictions are part of an annual tradition for the Armonk New York based company which surveys its 3 000 researchers to find five ideas expected to take root in the next five years IBM the world s largest provider of computer services looks to Silicon Valley for input gleaning many ideas from its Almaden research center in San Jose California Holographic conversations projected from mobile phones lead this year s list The predictions also include air breathing batteries computer programs that can tell when and where traffic jams will take place environmental information generated by sensors in cars and phones and cities powered by the heat thrown off by computer servers These are all stretch goals and that s good said Paul Saffo managing director of foresight at the investment advisory firm Discern in San Francisco In an era when pessimism is the new black a little dose of technological optimism is not a bad thing For IBM it s not just idle speculation The company is one of the few big corporations investing in long range research projects and it counts on innovation to fuel growth Saffo said Not all of its predictions pan out though IBM was overly optimistic about the spread of speech technology for instance When the ideas do lead to products they can have broad implications for society as well as IBM s bottom line he said Research Spending They have continued to do research when all the other grand research organizations are gone said Saffo who is also a consulting associate professor at Stanford University IBM invested 5 8 billion in research and development last year 6 1 percent of revenue While that s down from about 10 percent in the early 1990s the company spends a bigger share on research than its computing rivals Hewlett Packard Co the top maker of personal computers spent 2 4 percent last year At Almaden scientists work on projects that don t always fit in with IBM s computer business The lab s research includes efforts to develop an electric car battery that runs 500 miles on one charge a filtration system for desalination and a program that shows changes in geographic data IBM rose 9 cents to 146 04 at 11 02 a m in New York Stock Exchange composite trading The stock had gained 11 percent this year before today Citizen Science The list is meant to give a window into the company s innovation engine said Josephine Cheng a vice president at IBM s Almaden lab All this demonstrates a real culture of innovation at IBM and willingness to devote itself to solving some of the world s biggest problems she said Many of the predictions are based on projects that IBM has in the works One of this year s ideas that sensors in cars wallets and personal devices will give scientists better data about the environment is an expansion of the company s citizen science initiative Earlier this year IBM teamed up with the California State Water Resources Control Board and the City of San Jose Environmental Services to help gather information about waterways Researchers from Almaden created an application that lets smartphone users snap photos of streams and creeks and report back on conditions The hope is that these casual observations will help local and state officials who don t have the resources to do the work themselves Traffic Predictors IBM also sees data helping shorten commutes in the next five years Computer programs will use algorithms and real time traffic information to predict which roads will have backups and how to avoid getting stuck Batteries may last 10 times longer in 2015 than today IBM says Rather than using the current lithium ion technology new models could rely on energy dense metals that only need to interact with the air to recharge Some electronic devices might ditch batteries altogether and use something similar to kinetic wristwatches which only need to be shaken to generate a charge The final prediction involves recycling the heat generated by computers and data centers Almost half of the power used by data centers is currently spent keeping the computers cool IBM scientists say it would be better to harness that heat to warm houses and offices In IBM s first list of predictions compiled at the end of 2006 researchers said instantaneous speech translation would become the norm That hasn t happened yet While some programs can quickly translate electronic documents and instant messages and other apps can perform limited speech translation there s nothing widely available that acts like the universal translator in Star Trek Second Life The company also predicted that online immersive environments such as Second Life would become more widespread While immersive video games are as popular as ever Second Life s growth has slowed Internet users are flocking instead to the more 2 D environments of Facebook Inc and Twitter Inc Meanwhile a 2007 prediction that mobile phones will act as a wallet ticket broker concierge bank and shopping assistant is coming true thanks to the explosion of smartphone applications Consumers can pay bills through their banking apps buy movie tickets and get instant feedback on potential purchases all with a few taps on their phones The nice thing about the list is that it provokes thought Saffo said If everything came true they wouldn t be doing their job To contact the reporter on this story Ryan Flinn in San Francisco at rflinn bloomberg net To contact the editor responsible for this story Tom Giles at tgiles5 bloomberg net by 2015, your mobile phone will project a 3-d image of anyone who calls and your laptop will be powered by kinetic energy. at least that\\u2019s what international business machines corp. sees in its crystal ball.\"\",\"\"url\"\":\"\"bloomberg news 2010 12 23 ibm predicts holographic calls air breathing batteries by 2015 html\"\"}\"\t\"business\"\t\"0.789131\"\t\"2.055555556\"\t\"0.676470588\"\t\"0.205882353\"\t\"0.047058824\"\t\"0.023529412\"\t\"0.443783175\"\t\"0\"\t\"0\"\t\"0.09077381\"\t\"0\"\t\"0.245831182\"\t\"0.003883495\"\t\"1\"\t\"1\"\t\"24\"\t\"0\"\t\"5424\"\t\"170\"\t\"8\"\t\"0.152941176\"\t\"0.079129575\"\t\"0\"\n",
      "6803\n"
     ]
    }
   ],
   "source": [
    "numObs = rawLines.count()\n",
    "sampleObs = rawLines.take(1)\n",
    "sampleObs = sampleObs[0]\n",
    "numFeatures = len(sampleObs.split('\\t'))-1\n",
    "print(\"The number of observations: \"+str(numObs))\n",
    "print(\"The number of features: \"+str(numFeatures))\n",
    "print(\"One observation: \"+ str(sampleObs))\n",
    "print(len(sampleObs))"
   ]
  },
  {
   "cell_type": "code",
   "execution_count": 6,
   "metadata": {
    "scrolled": true
   },
   "outputs": [
    {
     "name": "stdout",
     "output_type": "stream",
     "text": [
      "Yay, the number of observations is correct!\n",
      "Yay, the number of features is correct!\n",
      "Yay, the first observation is correct!\n"
     ]
    }
   ],
   "source": [
    "#Check if the observations are correct\n",
    "check(numObs, 7395, \"the number of observations\")\n",
    "check(numFeatures, 26, \"the number of features\")\n",
    "check(len(sampleObs), 6803, \"the first observation\")"
   ]
  },
  {
   "cell_type": "markdown",
   "metadata": {},
   "source": [
    "### 1.2 Checking out the RDD some more\n",
    "Features number 4, 5, 18, and 21 in the eighth observation got missing values represented by the string \"?\":"
   ]
  },
  {
   "cell_type": "code",
   "execution_count": 7,
   "metadata": {
    "scrolled": true
   },
   "outputs": [
    {
     "name": "stdout",
     "output_type": "stream",
     "text": [
      "\"http://www.insidershealth.com/article/racing_for_recovery/3471\"\t\"3402\"\t\"{\"\"url\"\":\"\"insidershealth article racing for recovery 3471\"\",\"\"title\"\":\"\"Racing For Recovery by Dean Johnson racing for recovery by dean johnson - - insidershealth.com\"\",\"\"body\"\":\"\"Racing For Recovery is the growing idea that drug addiction and alcoholism can be cured by focusing one s energies towards something positive Eddie Freas tell CNN that I feel better when I m working out It does wonders for the mind The reason I started running it was a switch that went off in my head I started feeling positive and feeling great about myself It is true that dopamine levels can be increased by strenuous physical activity but is simply getting your fix in a healthy way actually healthy for you in the long run Freas admits to trying Alcoholics Anonymous and rehab but says the institutions did nothing to cure his drug addiction perhaps that is because of AA s non belief in the ability of a true addict to get cured they look at it as a disease that like cancer can only go into remission In any case Freas is sober today and has gotten there by doing something he loves that much is commendable Whether or not this strategy will better his quality of life or keep him sober over time has yet to be seen The trick apparently isn t just to exercise but to find something anything that will help This Content is restricted to our Community Login or Sign Up for an account to continue reading an insidershealth.com article regarding - racing for recovery by dean johnson. racing for recovery is the growing idea that drug addiction and alcoholism can be cured by focusing one&rsquo;s energies towards something positive. , , alternative health, article, homeopathic, health, natural medicine, natural cures, community\"\"}\"\t\"?\"\t\"?\"\t\"1.883333333\"\t\"0.71969697\"\t\"0.265151515\"\t\"0.113636364\"\t\"0.015151515\"\t\"0.49934811\"\t\"0\"\t\"0\"\t\"0.02661597\"\t\"0\"\t\"0.173745927\"\t\"0.025830258\"\t\"?\"\t\"0\"\t\"5\"\t\"?\"\t\"27656\"\t\"132\"\t\"4\"\t\"0.068181818\"\t\"0.148550725\"\t\"0\"\n",
      "\n",
      "The missing values from features 4, 5, 18, and 21: ['\"?\"', '\"?\"', '\"?\"', '\"?\"']\n"
     ]
    }
   ],
   "source": [
    "sampleObs = rawLines.take(8)[7]\n",
    "print(sampleObs)\n",
    "sampleObsVector = sampleObs.split('\\t')\n",
    "print(\"\\nThe missing values from features 4, 5, 18, and 21: \"+str([sampleObsVector [i] for i in [3,4,17,20]]))"
   ]
  },
  {
   "cell_type": "markdown",
   "metadata": {},
   "source": [
    "Feature number 4 seems to be categorical:"
   ]
  },
  {
   "cell_type": "code",
   "execution_count": 8,
   "metadata": {},
   "outputs": [
    {
     "name": "stdout",
     "output_type": "stream",
     "text": [
      "['business', 'recreation', 'health', 'health', 'sports', '?', 'arts_entertainment', '?', '?', '?', 'business', 'sports', 'health', '?', 'recreation', 'recreation', 'recreation', 'arts_entertainment', 'recreation', 'health', 'sports', 'recreation', 'health', '?', '?', 'sports', 'sports', 'business', '?', '?', 'recreation', 'recreation']\n"
     ]
    }
   ],
   "source": [
    "feature4 = rawLines.map(lambda x:x.split(\"\\t\")[3].strip(\"\\\"\"))\n",
    "print(feature4.take(2**5))"
   ]
  },
  {
   "cell_type": "markdown",
   "metadata": {},
   "source": [
    "### 1.3 Parsing the vectors\n",
    "This time we will wait with the creation of the LabeledPoints, because the data needs some preprocessing first. Firstly we will remove the three first features: the url of the page, the page ID, and the JSON representing the text of the page. \n",
    "\n",
    "The url may contain some information, i.e. pages with similar addresses, may have similar evergreen qualities, but will skip it for this exercise. The page ID should not contain any information, as it is only used for identifying the page, although it could contain some structure, e.g. if the distribution of evergreen pages is not uniform over time. The JSON-feature we will return to later in this exercise.\n",
    "\n",
    "Implement the function below that parses the lines of the TSV-file and returns a list of unicode tokens corresponding to feature 4 to 27. You will remove the leading and trailing quotes (\") using strip()."
   ]
  },
  {
   "cell_type": "code",
   "execution_count": 9,
   "metadata": {},
   "outputs": [],
   "source": [
    "#Replace the <INSERT>\n",
    "def parseObsVec(line):\n",
    "    \"\"\"Creates a vector of the 4 to 27 features, from a line in the input file.\n",
    "\n",
    "    Args:\n",
    "        line (str)): A line from the input TSV-file.\n",
    "\n",
    "    Returns:\n",
    "        vector: A unicode list of the 4 to 27 features, with the quotation marks removed.\n",
    "    \"\"\"\n",
    "    wholeLine = line.split(\"\\t\")[3:]\n",
    "    vector = [word.strip(\"\\\"\") for word in wholeLine]\n",
    "    return vector"
   ]
  },
  {
   "cell_type": "code",
   "execution_count": 10,
   "metadata": {},
   "outputs": [
    {
     "name": "stdout",
     "output_type": "stream",
     "text": [
      "['business', '0.789131', '2.055555556', '0.676470588', '0.205882353', '0.047058824', '0.023529412', '0.443783175', '0', '0', '0.09077381', '0', '0.245831182', '0.003883495', '1', '1', '24', '0', '5424', '170', '8', '0.152941176', '0.079129575', '0']\n"
     ]
    }
   ],
   "source": [
    "parsedVec = rawLines.map(lambda x: parseObsVec(x))\n",
    "exampleVec = parsedVec.take(1)[0]\n",
    "print(exampleVec)"
   ]
  },
  {
   "cell_type": "code",
   "execution_count": 11,
   "metadata": {},
   "outputs": [
    {
     "name": "stdout",
     "output_type": "stream",
     "text": [
      "Yay, the parsing function is correct!\n"
     ]
    }
   ],
   "source": [
    "#Check if the parsing function is correct\n",
    "check(exampleVec, [u'business', u'0.789131', u'2.055555556', u'0.676470588', u'0.205882353', u'0.047058824', \n",
    "                   u'0.023529412', u'0.443783175', u'0', u'0', u'0.09077381', u'0', u'0.245831182', u'0.003883495',\n",
    "                   u'1', u'1', u'24', u'0',u'5424', u'170', u'8', u'0.152941176', u'0.079129575', u'0'], \n",
    "      \"the parsing function\")"
   ]
  },
  {
   "cell_type": "markdown",
   "metadata": {},
   "source": [
    "### 1.4 Creating a list of categories\n",
    "\n",
    "To be able to map the categories to one-hot encoded (OHE) features, we will firstly need the list of the distinct categories. The category is the first element of the parsed vector parsedVec.\n",
    "\n",
    "Create a list of the different categories from this first item in parsedVec:"
   ]
  },
  {
   "cell_type": "code",
   "execution_count": 12,
   "metadata": {},
   "outputs": [
    {
     "name": "stdout",
     "output_type": "stream",
     "text": [
      "['?', 'arts_entertainment', 'business', 'computer_internet', 'culture_politics', 'gaming', 'health', 'law_crime', 'recreation', 'religion', 'science_technology', 'sports', 'unknown', 'weather']\n"
     ]
    }
   ],
   "source": [
    "#Replace the <INSERT>\n",
    "#Extract the first element\n",
    "parsedCat= parsedVec.map(lambda Obs: Obs[0])\n",
    "#Collect all the distinct elements\n",
    "listOfCat = sorted(parsedCat.distinct().collect()) # use sorted to guarantee fixed order for different starting dataset\n",
    "print(listOfCat)"
   ]
  },
  {
   "cell_type": "code",
   "execution_count": 13,
   "metadata": {},
   "outputs": [
    {
     "name": "stdout",
     "output_type": "stream",
     "text": [
      "Yay, the list of categories is correct!\n"
     ]
    }
   ],
   "source": [
    "#Check if the list of categories is correct\n",
    "check(listOfCat, [u'?', u'arts_entertainment', u'business', u'computer_internet', u'culture_politics', u'gaming', \n",
    "                  u'health', u'law_crime', u'recreation', u'religion', u'science_technology', u'sports', \n",
    "                  u'unknown', u'weather'], \n",
    "      \"the list of categories\")"
   ]
  },
  {
   "cell_type": "markdown",
   "metadata": {},
   "source": [
    "### 1.5 Creating a dictionary for the categories\n",
    "\n",
    "After creating the list we need to create a dictionary mapping the categories to indices. \n",
    "\n",
    "As you may have noticed one category is \"?\", this could be imputed by replacing it with the most frequent category or the \"unknown\" category, but because it is a categorical feature we can use it as it is.\n",
    "\n",
    "Create such a dictionary below:"
   ]
  },
  {
   "cell_type": "code",
   "execution_count": 14,
   "metadata": {
    "scrolled": true
   },
   "outputs": [
    {
     "name": "stdout",
     "output_type": "stream",
     "text": [
      "{'?': 0, 'arts_entertainment': 1, 'business': 2, 'computer_internet': 3, 'culture_politics': 4, 'gaming': 5, 'health': 6, 'law_crime': 7, 'recreation': 8, 'religion': 9, 'science_technology': 10, 'sports': 11, 'unknown': 12, 'weather': 13}\n"
     ]
    }
   ],
   "source": [
    "OHEDict ={}\n",
    "for i in range(0, len(listOfCat)):\n",
    "    OHEDict[listOfCat[i]] = i\n",
    "print(OHEDict)"
   ]
  },
  {
   "cell_type": "code",
   "execution_count": 15,
   "metadata": {},
   "outputs": [
    {
     "name": "stdout",
     "output_type": "stream",
     "text": [
      "Yay, the dictionary of categories is correct!\n"
     ]
    }
   ],
   "source": [
    "#Check if the dictionary of categories is correct\n",
    "check(OHEDict, {u'?': 0, u'arts_entertainment': 1, u'business': 2, u'computer_internet': 3, u'culture_politics': 4, \n",
    "                u'gaming': 5, u'health': 6, u'law_crime': 7, u'recreation': 8, u'religion': 9,\n",
    "                u'science_technology': 10, u'sports': 11, u'unknown': 12, u'weather': 13}, \n",
    "      \"the dictionary of categories\")"
   ]
  },
  {
   "cell_type": "markdown",
   "metadata": {},
   "source": [
    "### 1.6 Extending the feature vector with one-hot encoded categories\n",
    "We now need to create the OHE features, i.e. extending the feature vector with a vector consisting out of 13 zeros and 1 one.\n",
    "\n",
    "Implement the following function that extends the feature vector with OHE encoded features. You will convert the category, which is the first element of rawVector and append it to end of rawVector."
   ]
  },
  {
   "cell_type": "code",
   "execution_count": 16,
   "metadata": {},
   "outputs": [],
   "source": [
    "#Replace the <INSERT>\n",
    "def oneHotEncoding(rawVector, OHEDict):\n",
    "    \"\"\"Extends the feature vector with binary OHE features using a dictionary.\n",
    "\n",
    "    Args:\n",
    "        rawVector (list of str)): The features corresponding to a single observation.\n",
    "        OHEDict (dict): A mapping of the categories to a unique integer.\n",
    "\n",
    "    Returns:\n",
    "        vector: A unicode list of the 5 to 27 features, extended with 14 binary OHE features.\n",
    "    \"\"\"\n",
    "    Cat = rawVector[0]  # the category for this 0bservation\n",
    "    CatInt = OHEDict[Cat] # the unique integer for the category\n",
    "    catVector = np.zeros(len(OHEDict))\n",
    "    catVector[CatInt] = 1\n",
    "    rawVector.extend(catVector)\n",
    "    vector = rawVector[1:]\n",
    "    return vector"
   ]
  },
  {
   "cell_type": "code",
   "execution_count": 17,
   "metadata": {},
   "outputs": [
    {
     "name": "stdout",
     "output_type": "stream",
     "text": [
      "['0.789131', '2.055555556', '0.676470588', '0.205882353', '0.047058824', '0.023529412', '0.443783175', '0', '0', '0.09077381', '0', '0.245831182', '0.003883495', '1', '1', '24', '0', '5424', '170', '8', '0.152941176', '0.079129575', '0', 0.0, 0.0, 1.0, 0.0, 0.0, 0.0, 0.0, 0.0, 0.0, 0.0, 0.0, 0.0, 0.0, 0.0]\n"
     ]
    }
   ],
   "source": [
    "parsedOHE = parsedVec.map(lambda x:  oneHotEncoding(x,OHEDict))\n",
    "sampleOHE = parsedOHE.take(1)[0]\n",
    "print(sampleOHE)"
   ]
  },
  {
   "cell_type": "code",
   "execution_count": 18,
   "metadata": {},
   "outputs": [
    {
     "name": "stdout",
     "output_type": "stream",
     "text": [
      "Yay, the OHE features is correct!\n"
     ]
    }
   ],
   "source": [
    "#Check if the OHE features is correct\n",
    "check(sampleOHE, [u'0.789131', u'2.055555556', u'0.676470588', u'0.205882353', u'0.047058824', u'0.023529412',\n",
    "                  u'0.443783175', u'0', u'0', u'0.09077381', u'0', u'0.245831182', u'0.003883495',  u'1', \n",
    "                  u'1', u'24', u'0', u'5424', u'170', u'8', u'0.152941176', u'0.079129575', u'0', 0.0, \n",
    "                  0.0, 1.0, 0.0, 0.0, 0.0, 0.0, 0.0, 0.0, 0.0, 0.0, 0.0, 0.0, 0.0], \n",
    "      \"the OHE features\")"
   ]
  },
  {
   "cell_type": "markdown",
   "metadata": {},
   "source": [
    "### 1.7 Impute real valued feature\n",
    "The first feature of the current feature vector is real valued, and has got missing values, represented by \"?\" as seen before. To be able to use the feature we need to somehow impute the missing values. One way of doing this is replacing the missing values with the mean of the non-missing values.\n",
    "\n",
    "Implement the following function that takes the feature vector and replaces the \"?\" from the first feature in the vector with the mean:"
   ]
  },
  {
   "cell_type": "code",
   "execution_count": 19,
   "metadata": {},
   "outputs": [],
   "source": [
    "#Replace the <INSERT>\n",
    "def imputeMean(vector):\n",
    "    \"\"\"Imputes the missing values from the first feature with the mean\n",
    "\n",
    "    Args:\n",
    "        vector RDD(list of str): The features corresponding to a single observation.\n",
    "\n",
    "    Returns:\n",
    "        vector: A list with the 36 features, with the first feature imputed\n",
    "    \"\"\"\n",
    "    meanVec = vector.map(lambda x: x[0]).filter(lambda x: x !=\"?\")\n",
    "    mean = meanVec.map(lambda x:  float(x)).mean()\n",
    "    vector = vector.map(lambda x: x if x[0] != \"?\" else [mean]+x[1:])\n",
    "    return vector"
   ]
  },
  {
   "cell_type": "code",
   "execution_count": 20,
   "metadata": {
    "scrolled": true
   },
   "outputs": [
    {
     "name": "stdout",
     "output_type": "stream",
     "text": [
      "[0.6033343166237874, '1.883333333', '0.71969697', '0.265151515', '0.113636364', '0.015151515', '0.49934811', '0', '0', '0.02661597', '0', '0.173745927', '0.025830258', '?', '0', '5', '?', '27656', '132', '4', '0.068181818', '0.148550725', '0', 1.0, 0.0, 0.0, 0.0, 0.0, 0.0, 0.0, 0.0, 0.0, 0.0, 0.0, 0.0, 0.0, 0.0]\n"
     ]
    }
   ],
   "source": [
    "parsedMean = imputeMean(parsedOHE)\n",
    "sampleMean = parsedMean.take(8)[7]\n",
    "print(sampleMean)"
   ]
  },
  {
   "cell_type": "code",
   "execution_count": 21,
   "metadata": {},
   "outputs": [
    {
     "name": "stdout",
     "output_type": "stream",
     "text": [
      "Yay, the mean imputation is correct!\n"
     ]
    }
   ],
   "source": [
    "#Check if the real value imputation is correct\n",
    "check(sampleMean, [0.6033343166237874, u'1.883333333', u'0.71969697', u'0.265151515', u'0.113636364', u'0.015151515',\n",
    "                   u'0.49934811', u'0', u'0', u'0.02661597', u'0', u'0.173745927', u'0.025830258', u'?', u'0', u'5', \n",
    "                   u'?', u'27656', u'132', u'4', u'0.068181818', u'0.148550725', u'0', 1.0, 0.0, 0.0, 0.0, 0.0, 0.0,\n",
    "                   0.0, 0.0, 0.0, 0.0, 0.0, 0.0, 0.0, 0.0], \n",
    "      \"the mean imputation\")"
   ]
  },
  {
   "cell_type": "markdown",
   "metadata": {},
   "source": [
    "### 1.8 Impute binary feature\n",
    "The 14:th and 17:th features of the current feature vector are binary valued, and have got missing values, represented by \"?\" as seen before. To use these features, we need a method to impute the missing values.\n",
    "\n",
    "One way of doing this is to replace the missing values with the mode of the non-missing values, i.e. the most frequent value. Utilize that the mode of a binary feature is its mean rounded to the nearest integer.\n",
    "\n",
    "Implement the following function (that is very similar to the imputeMean function) that takes the feature vector and replaces the \"?\" from the feature with index, in the vector with the mode:"
   ]
  },
  {
   "cell_type": "code",
   "execution_count": 22,
   "metadata": {},
   "outputs": [],
   "source": [
    "def imputeMode(vector,index):\n",
    "    \"\"\"Imputes the missing values from the feature with index, with the mode (for binary features)\n",
    "\n",
    "    Args:\n",
    "        vector (list of str): The features corresponding to a single observation.\n",
    "        index (integer):\n",
    "\n",
    "    Returns:\n",
    "        vector: A list with the 36 features, with the index feature imputed\n",
    "    \"\"\"\n",
    "    meanVec = vector.map(lambda x:  x[index]).filter(lambda x:  x != \"?\")\n",
    "    mean = meanVec.map(lambda x:  float(x)).mean()\n",
    "    mode = round(mean)\n",
    "    vector = vector.map(lambda x: x if x[index] != \"?\" else x[0:index]+[mode]+x[index+1:])\n",
    "    return vector"
   ]
  },
  {
   "cell_type": "code",
   "execution_count": 23,
   "metadata": {
    "scrolled": true
   },
   "outputs": [
    {
     "name": "stdout",
     "output_type": "stream",
     "text": [
      "[0.6033343166237874, '1.883333333', '0.71969697', '0.265151515', '0.113636364', '0.015151515', '0.49934811', '0', '0', '0.02661597', '0', '0.173745927', '0.025830258', 1, '0', '5', 0, '27656', '132', '4', '0.068181818', '0.148550725', '0', 1.0, 0.0, 0.0, 0.0, 0.0, 0.0, 0.0, 0.0, 0.0, 0.0, 0.0, 0.0, 0.0, 0.0]\n"
     ]
    }
   ],
   "source": [
    "parsedMode1 = imputeMode(parsedMean,13)\n",
    "parsedMode2 = imputeMode(parsedMode1,16)\n",
    "sampleMode = parsedMode2.take(8)[7]\n",
    "print(sampleMode)\n"
   ]
  },
  {
   "cell_type": "code",
   "execution_count": 24,
   "metadata": {},
   "outputs": [
    {
     "name": "stdout",
     "output_type": "stream",
     "text": [
      "Yay, the mode imputation is correct!\n"
     ]
    }
   ],
   "source": [
    "#Check if the binary mode imputation is correct\n",
    "check(sampleMode, [0.6033343166237874, '1.883333333', '0.71969697', '0.265151515', '0.113636364', '0.015151515',\n",
    "                   '0.49934811', '0', '0', '0.02661597', '0', '0.173745927', '0.025830258', 1, '0', '5', 0,\n",
    "                   '27656', '132', '4', '0.068181818', '0.148550725', '0', 1.0, 0.0, 0.0, 0.0, 0.0, 0.0,\n",
    "                   0.0, 0.0, 0.0, 0.0, 0.0, 0.0, 0.0, 0.0], \n",
    "      \"the mode imputation\")"
   ]
  },
  {
   "cell_type": "markdown",
   "metadata": {},
   "source": [
    "### 1.9 Remove the label from the vector\n",
    "To scale and normalize the features, we need to remove the labels from the feature vectors. The label is the 23:th feature in the vector.\n",
    "\n",
    "Create a list of the labels by removing them from the feature vectors:"
   ]
  },
  {
   "cell_type": "code",
   "execution_count": 25,
   "metadata": {},
   "outputs": [
    {
     "name": "stdout",
     "output_type": "stream",
     "text": [
      "0\n",
      "['0.789131', '2.055555556', '0.676470588', '0.205882353', '0.047058824', '0.023529412', '0.443783175', '0', '0', '0.09077381', '0', '0.245831182', '0.003883495', '1', '1', '24', '0', '5424', '170', '8', '0.152941176', '0.079129575', 0.0, 0.0, 1.0, 0.0, 0.0, 0.0, 0.0, 0.0, 0.0, 0.0, 0.0, 0.0, 0.0, 0.0]\n"
     ]
    }
   ],
   "source": [
    "labels = parsedMode2.map(lambda x: x[22])\n",
    "features = parsedMode2.map(lambda x: x[0:22]+x[23:])\n",
    "sampleLabel = labels.take(1)[0]\n",
    "sampleFeatures = features.take(1)[0]\n",
    "print(sampleLabel)\n",
    "print(sampleFeatures)"
   ]
  },
  {
   "cell_type": "code",
   "execution_count": 26,
   "metadata": {},
   "outputs": [
    {
     "name": "stdout",
     "output_type": "stream",
     "text": [
      "Yay, the labels is correct!\n",
      "Yay, the features is correct!\n"
     ]
    }
   ],
   "source": [
    "#Check if the labels and feature vectors are correct\n",
    "check(sampleLabel, \"0\", \"the labels\")\n",
    "check(sampleFeatures, ['0.789131', '2.055555556', '0.676470588', '0.205882353', '0.047058824', '0.023529412',\n",
    "                       '0.443783175', '0', '0', '0.09077381', '0', '0.245831182', '0.003883495', '1', '1',\n",
    "                       '24', '0', '5424', '170', '8', '0.152941176', '0.079129575', 0.0, 0.0, 1.0, 0.0,\n",
    "                       0.0, 0.0, 0.0, 0.0, 0.0, 0.0, 0.0, 0.0, 0.0, 0.0], \n",
    "      \"the features\")"
   ]
  },
  {
   "cell_type": "markdown",
   "metadata": {},
   "source": [
    "### 1.10 Scaling and normalizing the observations"
   ]
  },
  {
   "cell_type": "code",
   "execution_count": 27,
   "metadata": {},
   "outputs": [],
   "source": [
    "#Importing some important stuff\n",
    "from pyspark.mllib.feature import StandardScaler\n",
    "from pyspark.mllib.feature import Normalizer\n",
    "from pyspark.mllib.regression import LabeledPoint"
   ]
  },
  {
   "cell_type": "code",
   "execution_count": 28,
   "metadata": {},
   "outputs": [],
   "source": [
    "def scaleNorm(features,labels):\n",
    "    scaler = StandardScaler().fit(features)\n",
    "    scaledFeatures = scaler.transform(features)\n",
    "    norm = Normalizer()\n",
    "    normScaledFeatures = norm.transform(scaledFeatures)\n",
    "    normScaledObs = labels.zip(normScaledFeatures)\n",
    "    normScaledObs = normScaledObs.map(lambda x: LabeledPoint(x[0], x[1]))\n",
    "    return normScaledObs"
   ]
  },
  {
   "cell_type": "code",
   "execution_count": 29,
   "metadata": {},
   "outputs": [
    {
     "name": "stdout",
     "output_type": "stream",
     "text": [
      "(0.0,[0.48708235162803837,0.025898795833360848,0.3616719228137091,0.1523735630461378,0.053249505453644,0.035184367749224184,0.008449181770097007,0.0,0.0,0.2378640938613115,0.0,0.5086698478590467,0.0002197467961820353,0.0,0.22929933903438884,0.1278130347573795,0.0,0.0663708422856169,0.10287584823955488,0.268730211618676,0.09062397386809554,0.10846547068583773,0.0,0.0,0.33539565835673985,0.0,0.0,0.0,0.0,0.0,0.0,0.0,0.0,0.0,0.0,0.0])\n"
     ]
    }
   ],
   "source": [
    "normScaledObs = scaleNorm(features,labels)\n",
    "sampleNormScaled = normScaledObs.take(1)[0]\n",
    "print(sampleNormScaled)"
   ]
  },
  {
   "cell_type": "code",
   "execution_count": 30,
   "metadata": {},
   "outputs": [
    {
     "name": "stdout",
     "output_type": "stream",
     "text": [
      "Yay, the normalized and scaled features is correct!\n"
     ]
    }
   ],
   "source": [
    "checkArray(sampleNormScaled.features, [0.48708235162803837,0.025898795833360848,0.3616719228137091,0.1523735630461378,\n",
    "                                       0.053249505453644,0.035184367749224184,0.008449181770097007,0.0,0.0,\n",
    "                                       0.23786409386131144,0.0,0.5086698478590467,0.0002197467961820353,0.0,\n",
    "                                       0.22929933903438884,0.1278130347573795,0.0,0.06637084228561693,0.10287584823955488,\n",
    "                                       0.268730211618676,0.09062397386809554,0.10846547068583773,0.0,0.0,\n",
    "                                       0.33539565835673985,0.0,0.0,0.0,0.0,0.0,0.0,0.0,0.0,0.0,0.0,0.0], \n",
    "      \"the normalized and scaled features\")"
   ]
  },
  {
   "cell_type": "markdown",
   "metadata": {},
   "source": [
    "### 1.11 Illustrating the features\n",
    "We will visualize the data set, by projecting it from 36 dimensions to 2. This dimensionality reduction is achieved by using <a href=\"https://en.wikipedia.org/wiki/Principal_component_analysis\">PCA</a>:"
   ]
  },
  {
   "cell_type": "code",
   "execution_count": 31,
   "metadata": {},
   "outputs": [],
   "source": [
    "from sklearn.decomposition import TruncatedSVD\n",
    "import numpy as np\n",
    "#convert features to float data type us numpy\n",
    "features = features.map(lambda x: np.array(x).astype(np.float64))\n",
    "#Calculate the PCA of normScaledFeatures\n",
    "Y = TruncatedSVD(n_components=2).fit_transform(features.collect())"
   ]
  },
  {
   "cell_type": "code",
   "execution_count": 32,
   "metadata": {},
   "outputs": [
    {
     "data": {
      "image/png": "[encoded data removed]",
      "text/plain": [
       "<Figure size 1080x720 with 1 Axes>"
      ]
     },
     "metadata": {
      "needs_background": "light"
     },
     "output_type": "display_data"
    }
   ],
   "source": [
    "%matplotlib inline\n",
    "import matplotlib.pyplot as plt\n",
    "plt.figure(figsize=(15,10))\n",
    "ax = plt.gca()"
   ]
  },
  {
   "cell_type": "code",
   "execution_count": 33,
   "metadata": {
    "scrolled": false
   },
   "outputs": [
    {
     "data": {
      "text/plain": [
       "<matplotlib.collections.PathCollection at 0x2d58bc450f0>"
      ]
     },
     "execution_count": 33,
     "metadata": {},
     "output_type": "execute_result"
    },
    {
     "data": {
      "image/png": "[encoded data removed]",
      "text/plain": [
       "<Figure size 1080x720 with 1 Axes>"
      ]
     },
     "metadata": {
      "needs_background": "light"
     },
     "output_type": "display_data"
    }
   ],
   "source": [
    "import matplotlib.pyplot as plt\n",
    "plt.figure(figsize=(15,10))\n",
    "axes = plt.gca()\n",
    "axes.set_xlim([-3000,220000])\n",
    "axes.set_ylim([-3000,5000])\n",
    "plt.scatter(Y[:, 0], Y[:, 1], c=labels.collect(),linewidths=.5, s=25)"
   ]
  },
  {
   "cell_type": "markdown",
   "metadata": {},
   "source": [
    "Let us zoom in on the large cluster of points:"
   ]
  },
  {
   "cell_type": "code",
   "execution_count": 34,
   "metadata": {},
   "outputs": [
    {
     "data": {
      "text/plain": [
       "<matplotlib.collections.PathCollection at 0x2d58bcb8550>"
      ]
     },
     "execution_count": 34,
     "metadata": {},
     "output_type": "execute_result"
    },
    {
     "data": {
      "image/png": "[encoded data removed]",
      "text/plain": [
       "<Figure size 1080x720 with 1 Axes>"
      ]
     },
     "metadata": {
      "needs_background": "light"
     },
     "output_type": "display_data"
    }
   ],
   "source": [
    "plt.figure(figsize=(15,10))\n",
    "axes = plt.gca()\n",
    "axes.set_xlim([-1000,50000])\n",
    "axes.set_ylim([-600,1000])\n",
    "plt.scatter(Y[:, 0], Y[:, 1], c=labels.collect(),linewidths=.5, s=50)"
   ]
  },
  {
   "cell_type": "markdown",
   "metadata": {},
   "source": [
    "### 1.12  Splitting the data into training, validation, and test sets \n",
    "Our last task with preparing the data set is to split it into a training, validation and test set. An usual split is 70%/15%/15%:"
   ]
  },
  {
   "cell_type": "code",
   "execution_count": 35,
   "metadata": {},
   "outputs": [
    {
     "data": {
      "text/plain": [
       "PythonRDD[38] at RDD at PythonRDD.scala:52"
      ]
     },
     "execution_count": 35,
     "metadata": {},
     "output_type": "execute_result"
    }
   ],
   "source": [
    "weights = [.7, .15, .15]\n",
    "seed = 0\n",
    "trainObsNum, valObsNum, testObsNum = normScaledObs.randomSplit(weights, seed)\n",
    "\n",
    "trainObsNum.cache()\n",
    "valObsNum.cache()\n",
    "testObsNum.cache()"
   ]
  },
  {
   "cell_type": "code",
   "execution_count": 36,
   "metadata": {},
   "outputs": [
    {
     "name": "stdout",
     "output_type": "stream",
     "text": [
      "Size of train set: 5156\n",
      "Size of validation set: 1108\n",
      "Size of test set: 1131\n",
      "Size of total data set: 7395\n"
     ]
    }
   ],
   "source": [
    "numTrain = trainObsNum.count()\n",
    "numVal = valObsNum.count()\n",
    "numTest = testObsNum.count()\n",
    "\n",
    "print(\"Size of train set: \"+str(numTrain))\n",
    "print(\"Size of validation set: \"+str(numVal))\n",
    "print(\"Size of test set: \"+str(numTest))\n",
    "print(\"Size of total data set: \"+str(+numTrain+numVal+numTest))"
   ]
  },
  {
   "cell_type": "code",
   "execution_count": 37,
   "metadata": {
    "scrolled": true
   },
   "outputs": [
    {
     "name": "stdout",
     "output_type": "stream",
     "text": [
      "Yay, the train set is correct!\n",
      "Yay, the validation set is correct!\n",
      "Yay, the test set is correct!\n",
      "Yay, the total data set is correct!\n"
     ]
    }
   ],
   "source": [
    "#Check if the data sets are correct\n",
    "check(numTrain, 5156, \"the train set\")\n",
    "check(numVal, 1108, \"the validation set\")\n",
    "check(numTest, 1131, \"the test set\")\n",
    "check(numTrain+numVal+numTest, 7395, \"the total data set\")"
   ]
  },
  {
   "cell_type": "markdown",
   "metadata": {},
   "source": [
    "## 2. Logistic regression\n",
    "\n",
    "### 2.1 Logistic regression with limited-memory BFGS\n",
    "MLlib's <a href=\"https://spark.apache.org/docs/latest/api/python/pyspark.mllib.html#pyspark.mllib.classification.LogisticRegressionWithLBFGS\">LogisticRegressionWithLBFGS</a> utilizes logistic regression with <a href=\"https://en.wikipedia.org/wiki/Limited-memory_BFGS\">limited-memory Broyden–Fletcher–Goldfarb–Shanno</a> as an optimization algorithm. There exists a SGD variant of logistic regression in MLlib also, but the LBFGS tends to be both faster and use less memory.\n",
    "\n",
    "Create the following logistic regression model with the regParam option set to regPar and the rest the default values:"
   ]
  },
  {
   "cell_type": "code",
   "execution_count": 38,
   "metadata": {},
   "outputs": [],
   "source": [
    "#Import even more important stuff\n",
    "from pyspark.mllib.classification import LogisticRegressionWithLBFGS"
   ]
  },
  {
   "cell_type": "code",
   "execution_count": 39,
   "metadata": {},
   "outputs": [
    {
     "name": "stdout",
     "output_type": "stream",
     "text": [
      "[-0.5792246616026886,-0.7720054719806997,1.3340271420107594,-0.6641228782788721,2.9933425927019996,-1.1200057148952272,0.1560571831733771,0.1864696983541056,0.0,-2.6548244075634972,-0.10664216815805475,0.4881894663120436,-1.0732481949761863,0.0,0.3133400515534091,-3.977033455631937,-0.6283775178048432,-1.1349388530143092,1.6207148215766516,-0.4494454507516087,0.3146856868733079,-1.2301270034568885,3.0392485860660283,0.645662135046921,4.3084946371126005,-0.8101758587448324,1.0488978099735624,0.3540892160166938,1.8377624653539297,0.2220449211950997,4.562835235095612,-0.11430132763476068,0.8197813347186519,-1.1308182226056105,0.4085969143359474,-7.763022999026221]\n"
     ]
    }
   ],
   "source": [
    "#Replace the <INSERT>\n",
    "regPar = 0.00001\n",
    "modelNum = LogisticRegressionWithLBFGS().train(trainObsNum, regParam=regPar)\n",
    "weights = modelNum.weights\n",
    "print(weights)"
   ]
  },
  {
   "cell_type": "code",
   "execution_count": 40,
   "metadata": {},
   "outputs": [
    {
     "name": "stdout",
     "output_type": "stream",
     "text": [
      "Yay, weights of the model is correct!\n"
     ]
    }
   ],
   "source": [
    "#Check if the model is correct\n",
    "checkArray(weights, [-0.5792246615548065,-0.7720054719556295,1.3340271419052456,-0.6641228782076674,2.9933425926668265,\n",
    "                     -1.1200057149128082,0.15605718323893583,0.18646969847394024,0.0,-2.654824407616171,\n",
    "                     -0.10664216815030625,0.48818946633109445,-1.0732481951284933,0.0,0.31334005165610423,\n",
    "                     -3.9770334555966103,-0.6283775177452231,-1.1349388530297533,1.6207148214878535,-0.44944545074860837,\n",
    "                     0.3146856869187459,-1.2301270033932048,3.039248585975991,0.6456621349767238,4.3084946369275,\n",
    "                     -0.8101758587721467,1.0488978099107702,0.35408921600228527,1.8377624652557274,0.2220449211833375,\n",
    "                     4.562835234985785,-0.11430132761363056,0.8197813346728,-1.1308182225633865,0.40859691434735396,\n",
    "                     -7.76302299944107], \n",
    "      \"weights of the model\")"
   ]
  },
  {
   "cell_type": "markdown",
   "metadata": {},
   "source": [
    "### 2.2 Evaluating the logistic regression\n",
    "\n",
    "A common metric to evaluate binary classification is the <a href=\"https://en.wikipedia.org/wiki/Receiver_operating_characteristic#Area_under_the_curve\">area under the receiver operating characteristic (AUROC)</a>, which is also used as the evaluation metric by <a href=\"https://www.kaggle.com/c/stumbleupon/details/evaluation\">StumbleUpon Evergreen Classification Challenge</a>. A model that assigns random labels to observations will get an AUROC of 0.5, so hopefully we will beat that! ;)\n",
    "\n",
    "You do not need to calculate this yourself, use instead the following MLlib class: <a href=\"https://spark.apache.org/docs/latest/api/python/pyspark.mllib.html#pyspark.mllib.evaluation.BinaryClassificationMetrics\">BinaryClassificationMetrics</a>. To get the raw percentages from the predict method, you need to use <a href=\"https://spark.apache.org/docs/latest/api/python/pyspark.mllib.html#pyspark.mllib.classification.LogisticRegressionModel.clearThreshold\">clearThreshold()</a> instead of the binary classification.\n",
    "\n",
    "An alternative is to use the roc_auc_score method from sklearn metrics library: <a href=\"https://scikit-learn.org/stable/modules/generated/sklearn.metrics.roc_auc_score.html\">AUROC score</a>.\n",
    "\n",
    "Calculate the AUROC for the validation data:"
   ]
  },
  {
   "cell_type": "code",
   "execution_count": 41,
   "metadata": {},
   "outputs": [],
   "source": [
    "#from pyspark.mllib.evaluation import BinaryClassificationMetrics #not working for me in windows pyspark\n",
    "from sklearn.metrics import roc_auc_score"
   ]
  },
  {
   "cell_type": "code",
   "execution_count": 42,
   "metadata": {},
   "outputs": [],
   "source": [
    "# We write a function to calculate the AUROC using the sklearn metrics library\n",
    "\n",
    "def ROC(predLabel):\n",
    "    \"\"\"Calculate the area under the receiver operating curves (AUROC)\n",
    "\n",
    "    Args:\n",
    "        predLabel: RDD vector of prediction and corresponding label tuple .\n",
    "\n",
    "    Returns:\n",
    "        ROC: A scalar of the calculated ROC value\n",
    "    \"\"\"\n",
    "    predAndLabel= predLabel.collect()\n",
    "    y_pred = []\n",
    "    y_true = []\n",
    "    for comb in predAndLabel:\n",
    "        y_pred.append(comb[0])\n",
    "        y_true.append(comb[1])\n",
    "    return roc_auc_score(np.array(y_true), np.array(y_pred))"
   ]
  },
  {
   "cell_type": "code",
   "execution_count": 43,
   "metadata": {},
   "outputs": [
    {
     "name": "stdout",
     "output_type": "stream",
     "text": [
      "0.7452004420581131\n"
     ]
    }
   ],
   "source": [
    "modelNum.clearThreshold()\n",
    "predLabel = valObsNum.map(lambda lp:(modelNum.predict(lp.features), lp.label))\n",
    "AUROC = ROC(predLabel)\n",
    "print(AUROC)"
   ]
  },
  {
   "cell_type": "code",
   "execution_count": 44,
   "metadata": {},
   "outputs": [
    {
     "name": "stdout",
     "output_type": "stream",
     "text": [
      "Yay, AUROC of the validation set is correct!\n"
     ]
    }
   ],
   "source": [
    "#Check if the AUROC on the validation set is correct\n",
    "check(round(AUROC,3), 0.745, \"AUROC of the validation set\")"
   ]
  },
  {
   "cell_type": "markdown",
   "metadata": {},
   "source": [
    "## 3. Evaluating the results\n",
    "\n",
    "### 3.1 Evaluate the model on the test set\n",
    "Let us try out the model on the test set, and see how they fare:"
   ]
  },
  {
   "cell_type": "code",
   "execution_count": 45,
   "metadata": {},
   "outputs": [
    {
     "name": "stdout",
     "output_type": "stream",
     "text": [
      "0.7400714343798283\n"
     ]
    }
   ],
   "source": [
    "predLabel = testObsNum.map(lambda lp:(modelNum.predict(lp.features), lp.label))\n",
    "AUROC = ROC(predLabel)\n",
    "print(AUROC)"
   ]
  },
  {
   "cell_type": "code",
   "execution_count": 46,
   "metadata": {},
   "outputs": [
    {
     "name": "stdout",
     "output_type": "stream",
     "text": [
      "Yay, AUROC of the validation set is correct!\n"
     ]
    }
   ],
   "source": [
    "#Check if the numeric model's AUROC on the test set is correct\n",
    "check(round(AUROC,3), 0.740, \"AUROC of the validation set\")"
   ]
  },
  {
   "cell_type": "markdown",
   "metadata": {},
   "source": [
    "### 3.2 Post mortem discussion\n",
    "If you check <a href=\"https://www.kaggle.com/c/stumbleupon/leaderboard\">the leaderboard</a> on Kaggle, you can see that the winner had an AUROC of 0.88906, although not directly comparable with our result on the test set, because they used another test set, but still it gives an indication of the quality of the result.\n",
    "\n",
    "A lower bound should be an AUROC of 0.5, because a model that assigns random labels to observations will get it, although 10 participants in the Kaggle challenge did not get better than that.\n",
    "\n",
    "If we would have gotten the same result on their test set, i.e. 0.710 we would have placed on the 540:th place out of 625 participants. We would not have beaten Random Forest Benchmark 0.768, in which they applied random forest to the provided features.\n",
    "\n",
    "But you will improve on this result in this week home assignment, by using the JSON-feature!"
   ]
  }
 ],
 "metadata": {
  "kernelspec": {
   "display_name": "Python 3",
   "language": "python",
   "name": "python3"
  },
  "language_info": {
   "codemirror_mode": {
    "name": "ipython",
    "version": 3
   },
   "file_extension": ".py",
   "mimetype": "text/x-python",
   "name": "python",
   "nbconvert_exporter": "python",
   "pygments_lexer": "ipython3",
   "version": "3.7.1"
  }
 },
 "nbformat": 4,
 "nbformat_minor": 1
}
